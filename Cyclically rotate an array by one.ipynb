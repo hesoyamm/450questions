{
 "cells": [
  {
   "cell_type": "code",
   "execution_count": 34,
   "id": "dfed5b6a",
   "metadata": {},
   "outputs": [
    {
     "name": "stdout",
     "output_type": "stream",
     "text": [
      "1\n",
      "8\n",
      "9 8 7 6 4 2 1 3\n",
      "3 9 8 7 6 4 2 1\n"
     ]
    }
   ],
   "source": [
    "def rotate( arr, n):\n",
    "    temp=arr[n-1]\n",
    "    i=n-1\n",
    "    while(i>0):\n",
    "        arr[i]=arr[i-1]\n",
    "        i-=1\n",
    "    arr[0]=temp\n",
    "    return arr\n",
    "\n",
    "\n",
    "def main():\n",
    "    T = int(input())\n",
    "    \n",
    "    while(T>0):\n",
    "        n=int(input())\n",
    "        a = [int(x) for x in input().strip().split()]\n",
    "        rotate(a,n)\n",
    "        print(*a)\n",
    "        \n",
    "        T -=1\n",
    "        \n",
    "if __name__ == \"__main__\":\n",
    "\n",
    "    main()"
   ]
  },
  {
   "cell_type": "code",
   "execution_count": null,
   "id": "c4b1355a",
   "metadata": {},
   "outputs": [],
   "source": [
    "a=[1,2,3,4,5,6,7,8,9]"
   ]
  }
 ],
 "metadata": {
  "kernelspec": {
   "display_name": "Python 3",
   "language": "python",
   "name": "python3"
  },
  "language_info": {
   "codemirror_mode": {
    "name": "ipython",
    "version": 3
   },
   "file_extension": ".py",
   "mimetype": "text/x-python",
   "name": "python",
   "nbconvert_exporter": "python",
   "pygments_lexer": "ipython3",
   "version": "3.8.8"
  }
 },
 "nbformat": 4,
 "nbformat_minor": 5
}
